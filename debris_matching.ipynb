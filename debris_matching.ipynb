{
 "cells": [
  {
   "cell_type": "code",
   "execution_count": 1,
   "metadata": {},
   "outputs": [],
   "source": [
    "import numpy as np \n",
    "import pandas as pd \n",
    "import os\n",
    "import cv2"
   ]
  },
  {
   "cell_type": "code",
   "execution_count": 2,
   "metadata": {},
   "outputs": [],
   "source": [
    "# sensor_data = pd.read_csv('data/mysenior_sensor_data_output.csv')\n",
    "# sensor_attitude = sensor_data[:][['Time (UTCG)','q1', 'q2', 'q3', 'q4']]\n",
    "# print(sensor_attitude.head())\n",
    "# sensor_attitude.to_csv('data/sensor_attitude.csv', index=False)"
   ]
  },
  {
   "cell_type": "code",
   "execution_count": 3,
   "metadata": {},
   "outputs": [],
   "source": [
    "from dataclasses import dataclass\n",
    "@dataclass()\n",
    "class Debris:\n",
    "  name: str\n",
    "  time: pd.Timestamp\n",
    "  magnitude: float\n",
    "  position: np.ndarray\n",
    "  \n",
    "def read_debris_data(debris_file):\n",
    "  debris_data = pd.read_csv(debris_file,header=None)\n",
    "  is_header = debris_data.iloc[:,0].str.startswith('Time (UTCG)')\n",
    "  group_ids = is_header.cumsum()-1\n",
    "  group_count = group_ids.max() + 1\n",
    "  magnitudes = np.random.normal(4, 0.5, group_count)\n",
    "  headers = debris_data[is_header].iloc[:, 2]\n",
    "  names = headers.str.rsplit('-', n=1, expand=True)[0].str.replace(' ', '')\n",
    "  debris_name_list = names.unique().tolist()\n",
    "  debris = []\n",
    "  for grp_id, sub_df in debris_data.groupby(group_ids):\n",
    "    print(grp_id,names.iloc[grp_id])\n",
    "    coords = sub_df.iloc[1:, 1:4].to_numpy(dtype=np.float64)\n",
    "    time = pd.to_datetime(sub_df.iloc[1:, 0])\n",
    "    group_debris = [Debris(\n",
    "        name = names.iloc[grp_id],\n",
    "        time = time.iloc[i],\n",
    "        magnitude = magnitudes[grp_id],\n",
    "        position = coords[i]\n",
    "      )for i in range(len(time))\n",
    "    ]\n",
    "    debris.append(group_debris)\n",
    "  return debris, debris_name_list"
   ]
  },
  {
   "cell_type": "code",
   "execution_count": 4,
   "metadata": {},
   "outputs": [],
   "source": [
    "@dataclass()\n",
    "class Sensor:\n",
    "  time: pd.Timestamp\n",
    "  q: np.ndarray\n",
    "  position_a: np.ndarray\n",
    "  position: np.ndarray\n",
    "\n",
    "def read_sensor_data(sensor_file):\n",
    "  sensor_data = pd.read_csv(sensor_file)\n",
    "  sensor = []\n",
    "  sensor_data['Time (UTCG)'] = pd.to_datetime(sensor_data['Time (UTCG)'])\n",
    "  time_ls = sensor_data['Time (UTCG)'].tolist()\n",
    "  for index, row in sensor_data.iterrows():\n",
    "    sensor.append(Sensor(\n",
    "      time = row[0],\n",
    "      q = row[7:11].to_numpy(dtype=np.float64),\n",
    "      position_a = row[1:4].to_numpy(dtype=np.float64),\n",
    "      position = np.zeros(3)\n",
    "    ))\n",
    "  return sensor,time_ls"
   ]
  },
  {
   "cell_type": "code",
   "execution_count": 5,
   "metadata": {},
   "outputs": [
    {
     "name": "stdout",
     "output_type": "stream",
     "text": [
      "0 0_OPS_5721_09415\n",
      "1 ASTRID_1_23464\n",
      "2 COBE_20322\n",
      "3 COSMOS_1176_11788\n",
      "4 COSMOS_1181_11803\n",
      "5 COSMOS_1302_12791\n",
      "6 COSMOS_1357_13160\n",
      "7 COSMOS_1431_13763\n",
      "8 COSMOS_1476_14174\n",
      "9 COSMOS_1637_15619\n",
      "10 COSMOS_1930_18943\n",
      "11 COSMOS_2008_19902\n",
      "12 COSMOS_2270_23001\n",
      "13 COSMOS_507_06120\n",
      "14 COSMOS_617_06985\n",
      "15 COSMOS_626_07005\n",
      "16 COSMOS_645_07269\n",
      "17 COSMOS_789_08591\n",
      "18 DUMMY_MASS_1_24925\n",
      "19 ESSA_9_03764\n",
      "20 METEOR_1-15_06659\n",
      "21 METEOR_1-23_08519\n",
      "22 METEOR_PRIRODA_12585\n",
      "23 SURCAL_159_02872\n",
      "24 TIMATION_1_02847\n"
     ]
    }
   ],
   "source": [
    "debris_uv = pd.read_csv('debris_data.csv')\n",
    "# sensor_attitude = pd.read_csv('data/sensor_attitude.csv')\n",
    "sensor, time_ls = read_sensor_data('data/mysenior_sensor_data_output.csv')\n",
    "debris, debris_name_list = read_debris_data('data/reduced_debris_data.csv')\n",
    "time_list = debris_uv['time'].tolist()\n",
    "debris_uv['time'] = pd.to_datetime(debris_uv['time'])"
   ]
  },
  {
   "cell_type": "code",
   "execution_count": 6,
   "metadata": {},
   "outputs": [],
   "source": [
    "class DebrisMatch:\n",
    "  def __init__(self, name, index, u, v):\n",
    "    self.name = name\n",
    "    self.index = index\n",
    "    self.u = u\n",
    "    self.v = v"
   ]
  },
  {
   "cell_type": "code",
   "execution_count": 7,
   "metadata": {},
   "outputs": [],
   "source": [
    "def debris_match(uv_dict, debris_data, sensor_q, sensor_pos_est):\n",
    "  #参数：uv_dict:字典，键为编号，值为uv值  debris_dict:字典，键为编号，值为debris名字str  debris_data:所有debris在此刻的对象，长度为debris的数目  sensor_q:传感器姿态数据  sensor_pos_est:传感器位置数据，预估，有误差\n",
    "  #返回：debris_dict:字典，键为编号，值为debris名字str；error,当匹配失败时，返回一个误差\n",
    "  f = 0.01413\n",
    "  dh = 0.000006\n",
    "  dv = 0.000006\n",
    "  H = 700\n",
    "  debris_dict = {}\n",
    "  if sensor_q[3] < 0:\n",
    "    sensor_q = -sensor_q\n",
    "  q0, q1, q2, q3 = sensor_q\n",
    "  Msi = np.array([[q3**2+q0**2-q1**2-q2**2, 2*q3*q2+2*q0*q1,     -2*q3*q1+2*q0*q2],\n",
    "                    [-2*q3*q2+2*q0*q1,    q3**2-q0**2+q1**2-q2**2, 2*q3*q0+2*q1*q2],\n",
    "                    [2*q3*q1+2*q0*q2,     -2*q3*q0+2*q1*q2,    q3**2-q0**2-q1**2+q2**2]])\n",
    "  match_ls = [] #存放计算的可能的目标碎片，目前只有碎片名称但没有碎片编号\n",
    "  for debris0 in debris_data:\n",
    "    name = debris0.name\n",
    "    position = debris0.position\n",
    "    vec = sensor_pos_est - position\n",
    "    distance = np.linalg.norm(vec)\n",
    "    vec = vec / distance\n",
    "    A = np.dot(Msi, vec)\n",
    "    u = f*A[0]/(dh*A[2])+H\n",
    "    v = f*A[1]/(dv*A[2])+H\n",
    "    if u < -H or u > H*3 or v < -H or v > H*3:\n",
    "      continue\n",
    "    match0 = DebrisMatch(name, -1, v, u) # 这里uv交换一个位置，因为在图像中，x轴是v轴，y轴是u轴\n",
    "    match_ls.append(match0)\n",
    "\n",
    "  for index, uv_true in uv_dict.items():\n",
    "    u,v = uv_true\n",
    "    distance_ls = []\n",
    "    for match0 in match_ls:\n",
    "      distance_ls.append(np.linalg.norm(np.array([u,v])-np.array([match0.u, match0.v])))\n",
    "    min_distance = min(distance_ls)\n",
    "    match_ls[distance_ls.index(min_distance)].index = index\n",
    "  for match0 in match_ls:\n",
    "    if match0.index == -1:\n",
    "      continue\n",
    "    debris_dict[match0.index] = match0.name\n",
    "  \n",
    "  return debris_dict"
   ]
  },
  {
   "cell_type": "code",
   "execution_count": 8,
   "metadata": {},
   "outputs": [],
   "source": [
    "uv_dict_ls = []\n",
    "for time0 in range(len(time_list)):\n",
    "  uv_dict = {}\n",
    "  for index, row in debris_uv.iterrows():\n",
    "    if row[0] == time_ls[time0]:\n",
    "      index = int(row[3])\n",
    "      uv_dict[index] = [row[1], row[2]]\n",
    "  sensor_q = sensor[time0].q\n",
    "  sensor_pos_est = sensor[time0].position_a + np.random.normal(0, 1, 3) # 加噪声\n",
    "  debris_data = []\n",
    "  for i in range(len(debris)):\n",
    "    debris0 = debris[i][time0]\n",
    "    debris_data.append(debris0)\n",
    "  debris_dict = debris_match(uv_dict, debris_data, sensor_q, sensor_pos_est)\n",
    "  uv_dict_ls.append(debris_dict)"
   ]
  },
  {
   "cell_type": "code",
   "execution_count": 9,
   "metadata": {},
   "outputs": [
    {
     "name": "stdout",
     "output_type": "stream",
     "text": [
      "[{}, {}, {}, {}, {}, {}, {}, {}, {}, {}, {}, {}, {}, {}, {}, {}, {}, {}, {}, {}, {}, {}, {}, {}, {}, {}, {}, {}, {}, {}, {}, {}, {}, {}, {}, {}, {}, {}, {}, {}, {}, {}, {}, {}, {}, {}, {}, {}, {}, {}, {35: 'METEOR_1-15_06659'}, {35: 'METEOR_1-15_06659'}, {35: 'METEOR_1-15_06659'}, {35: 'METEOR_1-15_06659'}, {35: 'METEOR_1-15_06659'}, {35: 'METEOR_1-15_06659'}, {35: 'METEOR_1-15_06659'}, {35: 'METEOR_1-15_06659'}, {35: 'METEOR_1-15_06659'}, {35: 'METEOR_1-15_06659'}, {35: 'METEOR_1-15_06659'}, {35: 'METEOR_1-15_06659'}, {35: 'METEOR_1-15_06659'}, {35: 'METEOR_1-15_06659'}, {35: 'METEOR_1-15_06659'}, {35: 'METEOR_1-15_06659'}, {35: 'METEOR_1-15_06659'}, {35: 'METEOR_1-15_06659'}, {35: 'METEOR_1-15_06659'}, {35: 'METEOR_1-15_06659'}, {35: 'METEOR_1-15_06659'}, {35: 'METEOR_1-15_06659'}, {35: 'METEOR_1-15_06659'}, {35: 'METEOR_1-15_06659'}, {35: 'METEOR_1-15_06659'}, {35: 'METEOR_1-15_06659'}, {35: 'METEOR_1-15_06659'}, {35: 'METEOR_1-15_06659'}, {35: 'METEOR_1-15_06659'}, {35: 'METEOR_1-15_06659'}, {35: 'METEOR_1-15_06659'}, {35: 'METEOR_1-15_06659'}, {35: 'METEOR_1-15_06659'}, {35: 'METEOR_1-15_06659'}, {35: 'METEOR_1-15_06659'}, {35: 'METEOR_1-15_06659'}, {35: 'METEOR_1-15_06659'}, {35: 'METEOR_1-15_06659'}, {35: 'METEOR_1-15_06659'}, {35: 'METEOR_1-15_06659'}, {35: 'METEOR_1-15_06659'}, {35: 'METEOR_1-15_06659'}, {35: 'METEOR_1-15_06659'}, {35: 'METEOR_1-15_06659'}, {35: 'METEOR_1-15_06659'}, {35: 'METEOR_1-15_06659'}, {35: 'METEOR_1-15_06659'}, {35: 'METEOR_1-15_06659'}, {35: 'METEOR_1-15_06659'}, {35: 'METEOR_1-15_06659'}, {35: 'METEOR_1-15_06659'}, {35: 'METEOR_1-15_06659'}, {35: 'METEOR_1-15_06659'}, {35: 'METEOR_1-15_06659'}, {35: 'METEOR_1-15_06659'}, {35: 'METEOR_1-15_06659'}, {35: 'METEOR_1-15_06659'}, {35: 'METEOR_1-15_06659'}, {35: 'METEOR_1-15_06659'}, {35: 'METEOR_1-15_06659'}, {35: 'METEOR_1-15_06659'}, {35: 'METEOR_1-15_06659'}, {35: 'METEOR_1-15_06659'}, {35: 'METEOR_1-15_06659'}, {35: 'METEOR_1-15_06659'}, {35: 'METEOR_1-15_06659'}, {35: 'METEOR_1-15_06659'}, {35: 'METEOR_1-15_06659'}, {35: 'METEOR_1-15_06659'}, {35: 'METEOR_1-15_06659'}, {35: 'METEOR_1-15_06659'}, {35: 'METEOR_1-15_06659'}, {35: 'METEOR_1-15_06659'}, {35: 'METEOR_1-15_06659'}, {35: 'METEOR_1-15_06659'}, {35: 'METEOR_1-15_06659'}, {35: 'METEOR_1-15_06659'}, {35: 'METEOR_1-15_06659'}, {35: 'METEOR_1-15_06659'}, {35: 'METEOR_1-15_06659'}, {35: 'METEOR_1-15_06659'}, {35: 'METEOR_1-15_06659'}, {35: 'METEOR_1-15_06659'}, {35: 'METEOR_1-15_06659'}, {35: 'METEOR_1-15_06659'}, {35: 'METEOR_1-15_06659'}, {35: 'METEOR_1-15_06659'}, {35: 'METEOR_1-15_06659'}, {35: 'METEOR_1-15_06659'}, {35: 'METEOR_1-15_06659'}, {35: 'METEOR_1-15_06659'}, {35: 'METEOR_1-15_06659'}, {35: 'METEOR_1-15_06659'}, {35: 'METEOR_1-15_06659'}, {35: 'METEOR_1-15_06659'}, {35: 'METEOR_1-15_06659'}, {35: 'METEOR_1-15_06659'}, {35: 'METEOR_1-15_06659'}, {35: 'METEOR_1-15_06659'}, {35: 'METEOR_1-15_06659'}, {35: 'METEOR_1-15_06659'}, {35: 'METEOR_1-15_06659'}, {35: 'METEOR_1-15_06659'}, {35: 'METEOR_1-15_06659'}, {35: 'METEOR_1-15_06659'}, {35: 'METEOR_1-15_06659'}, {35: 'METEOR_1-15_06659'}, {35: 'METEOR_1-15_06659'}, {35: 'METEOR_1-15_06659'}, {35: 'METEOR_1-15_06659'}, {35: 'METEOR_1-15_06659'}, {35: 'METEOR_1-15_06659'}, {35: 'METEOR_1-15_06659'}, {35: 'METEOR_1-15_06659'}, {35: 'METEOR_1-15_06659'}, {35: 'METEOR_1-15_06659'}, {35: 'METEOR_1-15_06659'}, {35: 'METEOR_1-15_06659'}, {35: 'METEOR_1-15_06659'}, {35: 'METEOR_1-15_06659'}, {35: 'METEOR_1-15_06659'}, {35: 'METEOR_1-15_06659'}, {35: 'METEOR_1-15_06659'}, {35: 'METEOR_1-15_06659'}, {35: 'METEOR_1-15_06659'}, {35: 'METEOR_1-15_06659'}, {35: 'METEOR_1-15_06659'}, {35: 'METEOR_1-15_06659'}, {35: 'METEOR_1-15_06659'}, {35: 'METEOR_1-15_06659'}, {35: 'METEOR_1-15_06659'}, {35: 'METEOR_1-15_06659'}, {35: 'METEOR_1-15_06659'}, {35: 'METEOR_1-15_06659'}, {35: 'METEOR_1-15_06659'}, {35: 'METEOR_1-15_06659'}, {35: 'METEOR_1-15_06659'}, {35: 'METEOR_1-15_06659'}, {35: 'METEOR_1-15_06659'}, {35: 'METEOR_1-15_06659'}, {35: 'METEOR_1-15_06659'}, {35: 'METEOR_1-15_06659'}, {35: 'METEOR_1-15_06659'}, {35: 'METEOR_1-15_06659'}, {35: 'METEOR_1-15_06659'}, {35: 'METEOR_1-15_06659'}, {35: 'METEOR_1-15_06659'}, {35: 'METEOR_1-15_06659'}, {35: 'METEOR_1-15_06659'}, {35: 'METEOR_1-15_06659'}, {35: 'METEOR_1-15_06659'}, {35: 'METEOR_1-15_06659'}, {35: 'METEOR_1-15_06659'}, {35: 'METEOR_1-15_06659'}, {35: 'METEOR_1-15_06659'}, {35: 'METEOR_1-15_06659'}, {35: 'METEOR_1-15_06659'}, {35: 'METEOR_1-15_06659'}, {35: 'METEOR_1-15_06659'}, {35: 'METEOR_1-15_06659'}, {35: 'METEOR_1-15_06659'}, {35: 'METEOR_1-15_06659'}, {35: 'METEOR_1-15_06659'}, {35: 'METEOR_1-15_06659'}, {35: 'METEOR_1-15_06659'}, {35: 'METEOR_1-15_06659'}, {35: 'METEOR_1-15_06659'}, {35: 'METEOR_1-15_06659'}, {35: 'METEOR_1-15_06659'}, {35: 'METEOR_1-15_06659'}, {35: 'METEOR_1-15_06659'}, {35: 'METEOR_1-15_06659'}, {35: 'METEOR_1-15_06659'}, {35: 'METEOR_1-15_06659'}, {35: 'METEOR_1-15_06659'}, {35: 'METEOR_1-15_06659'}, {35: 'METEOR_1-15_06659'}, {35: 'METEOR_1-15_06659'}, {35: 'METEOR_1-15_06659'}, {35: 'METEOR_1-15_06659'}, {35: 'METEOR_1-15_06659'}, {35: 'METEOR_1-15_06659'}, {35: 'METEOR_1-15_06659'}, {35: 'METEOR_1-15_06659'}, {35: 'METEOR_1-15_06659'}, {35: 'METEOR_1-15_06659'}, {35: 'METEOR_1-15_06659'}, {35: 'METEOR_1-15_06659'}, {35: 'METEOR_1-15_06659'}, {35: 'METEOR_1-15_06659'}, {35: 'METEOR_1-15_06659'}, {35: 'METEOR_1-15_06659'}, {35: 'METEOR_1-15_06659'}, {35: 'METEOR_1-15_06659'}, {35: 'METEOR_1-15_06659'}, {35: 'METEOR_1-15_06659'}, {35: 'METEOR_1-15_06659'}, {35: 'METEOR_1-15_06659'}, {35: 'METEOR_1-15_06659'}, {35: 'METEOR_1-15_06659'}, {35: 'METEOR_1-15_06659'}, {35: 'METEOR_1-15_06659'}, {35: 'METEOR_1-15_06659'}, {35: 'METEOR_1-15_06659'}, {35: 'METEOR_1-15_06659'}, {35: 'METEOR_1-15_06659'}, {35: 'METEOR_1-15_06659'}, {35: 'METEOR_1-15_06659'}, {35: 'METEOR_1-15_06659'}, {35: 'METEOR_1-15_06659'}, {35: 'METEOR_1-15_06659'}, {35: 'METEOR_1-15_06659'}, {35: 'METEOR_1-15_06659'}, {35: 'METEOR_1-15_06659'}, {35: 'METEOR_1-15_06659'}, {35: 'METEOR_1-15_06659'}, {35: 'METEOR_1-15_06659'}, {35: 'METEOR_1-15_06659'}, {35: 'METEOR_1-15_06659'}, {35: 'METEOR_1-15_06659'}, {35: 'METEOR_1-15_06659'}, {35: 'METEOR_1-15_06659'}, {35: 'METEOR_1-15_06659'}, {35: 'METEOR_1-15_06659'}, {35: 'METEOR_1-15_06659'}, {35: 'METEOR_1-15_06659'}, {35: 'METEOR_1-15_06659'}, {35: 'METEOR_1-15_06659'}, {35: 'METEOR_1-15_06659'}, {35: 'METEOR_1-15_06659'}, {35: 'METEOR_1-15_06659'}, {35: 'METEOR_1-15_06659'}, {35: 'METEOR_1-15_06659'}, {35: 'METEOR_1-15_06659'}, {35: 'METEOR_1-15_06659'}, {35: 'METEOR_1-15_06659'}, {35: 'METEOR_1-15_06659'}, {35: 'METEOR_1-15_06659'}, {35: 'METEOR_1-15_06659'}, {35: 'METEOR_1-15_06659'}, {35: 'METEOR_1-15_06659'}, {35: 'METEOR_1-15_06659'}, {35: 'METEOR_1-15_06659'}, {35: 'METEOR_1-15_06659'}, {35: 'METEOR_1-15_06659'}, {35: 'METEOR_1-15_06659'}, {35: 'METEOR_1-15_06659'}, {35: 'METEOR_1-15_06659'}, {35: 'METEOR_1-15_06659'}, {35: 'METEOR_1-15_06659'}, {35: 'METEOR_1-15_06659'}, {35: 'METEOR_1-15_06659'}, {35: 'METEOR_1-15_06659'}, {35: 'METEOR_1-15_06659'}, {35: 'METEOR_1-15_06659'}, {35: 'METEOR_1-15_06659'}, {35: 'METEOR_1-15_06659'}, {35: 'METEOR_1-15_06659'}, {35: 'METEOR_1-15_06659'}, {35: 'METEOR_1-15_06659'}, {35: 'METEOR_1-15_06659'}, {35: 'METEOR_1-15_06659'}, {35: 'METEOR_1-15_06659'}, {35: 'METEOR_1-15_06659'}, {35: 'METEOR_1-15_06659'}, {35: 'METEOR_1-15_06659'}, {35: 'METEOR_1-15_06659'}, {35: 'METEOR_1-15_06659'}, {35: 'METEOR_1-15_06659'}, {35: 'METEOR_1-15_06659'}, {35: 'METEOR_1-15_06659'}, {35: 'METEOR_1-15_06659'}, {35: 'METEOR_1-15_06659'}, {35: 'METEOR_1-15_06659'}, {35: 'METEOR_1-15_06659'}, {35: 'METEOR_1-15_06659'}, {35: 'METEOR_1-15_06659'}, {35: 'METEOR_1-15_06659'}, {35: 'METEOR_1-15_06659'}, {35: 'METEOR_1-15_06659'}, {35: 'METEOR_1-15_06659'}, {35: 'METEOR_1-15_06659'}, {35: 'METEOR_1-15_06659'}, {35: 'METEOR_1-15_06659'}, {35: 'METEOR_1-15_06659'}, {35: 'METEOR_1-15_06659'}, {35: 'METEOR_1-15_06659'}, {35: 'METEOR_1-15_06659'}, {35: 'METEOR_1-15_06659'}, {35: 'METEOR_1-15_06659'}, {35: 'METEOR_1-15_06659'}, {35: 'METEOR_1-15_06659'}, {35: 'METEOR_1-15_06659'}, {35: 'METEOR_1-15_06659'}, {35: 'METEOR_1-15_06659'}, {35: 'METEOR_1-15_06659'}, {35: 'METEOR_1-15_06659'}, {35: 'METEOR_1-15_06659'}, {35: 'METEOR_1-15_06659'}, {35: 'METEOR_1-15_06659'}, {35: 'METEOR_1-15_06659'}, {35: 'METEOR_1-15_06659'}, {35: 'METEOR_1-15_06659'}, {35: 'METEOR_1-15_06659'}, {35: 'METEOR_1-15_06659'}, {35: 'METEOR_1-15_06659'}, {35: 'METEOR_1-15_06659'}, {35: 'METEOR_1-15_06659'}, {35: 'METEOR_1-15_06659'}, {35: 'METEOR_1-15_06659'}, {35: 'METEOR_1-15_06659'}, {35: 'METEOR_1-15_06659'}, {35: 'METEOR_1-15_06659'}, {35: 'METEOR_1-15_06659'}, {35: 'METEOR_1-15_06659'}, {35: 'METEOR_1-15_06659'}, {35: 'METEOR_1-15_06659'}, {35: 'METEOR_1-15_06659'}, {35: 'METEOR_1-15_06659'}, {35: 'METEOR_1-15_06659'}, {35: 'METEOR_1-15_06659'}, {35: 'METEOR_1-15_06659'}, {35: 'METEOR_1-15_06659'}, {35: 'METEOR_1-15_06659'}, {35: 'METEOR_1-15_06659'}, {35: 'METEOR_1-15_06659'}, {35: 'METEOR_1-15_06659'}, {35: 'METEOR_1-15_06659'}, {35: 'METEOR_1-15_06659'}, {35: 'METEOR_1-15_06659'}, {35: 'METEOR_1-15_06659'}, {35: 'METEOR_1-15_06659'}, {35: 'METEOR_1-15_06659'}, {35: 'METEOR_1-15_06659'}, {35: 'METEOR_1-15_06659'}, {35: 'METEOR_1-15_06659'}, {35: 'METEOR_1-15_06659'}, {35: 'METEOR_1-15_06659'}, {35: 'METEOR_1-15_06659'}, {35: 'METEOR_1-15_06659'}, {35: 'METEOR_1-15_06659'}, {35: 'METEOR_1-15_06659'}, {35: 'METEOR_1-15_06659'}, {35: 'METEOR_1-15_06659'}, {35: 'METEOR_1-15_06659'}, {35: 'METEOR_1-15_06659'}, {35: 'METEOR_1-15_06659'}, {35: 'METEOR_1-15_06659'}, {35: 'METEOR_1-15_06659'}, {35: 'METEOR_1-15_06659'}, {35: 'METEOR_1-15_06659'}, {35: 'METEOR_1-15_06659'}, {35: 'METEOR_1-15_06659'}, {35: 'METEOR_1-15_06659'}, {35: 'METEOR_1-15_06659'}, {35: 'METEOR_1-15_06659'}, {35: 'METEOR_1-15_06659'}, {35: 'METEOR_1-15_06659'}, {35: 'METEOR_1-15_06659'}, {35: 'METEOR_1-15_06659'}, {35: 'METEOR_1-15_06659'}, {35: 'METEOR_1-15_06659'}, {35: 'METEOR_1-15_06659'}, {35: 'METEOR_1-15_06659'}, {35: 'METEOR_1-15_06659'}, {35: 'METEOR_1-15_06659'}, {35: 'METEOR_1-15_06659'}, {35: 'METEOR_1-15_06659'}, {35: 'METEOR_1-15_06659'}, {35: 'METEOR_1-15_06659'}, {35: 'METEOR_1-15_06659'}, {35: 'METEOR_1-15_06659'}, {35: 'METEOR_1-15_06659'}, {35: 'METEOR_1-15_06659'}, {35: 'METEOR_1-15_06659'}, {35: 'METEOR_1-15_06659'}, {35: 'METEOR_1-15_06659'}, {35: 'METEOR_1-15_06659'}, {35: 'METEOR_1-15_06659'}, {35: 'METEOR_1-15_06659'}, {35: 'METEOR_1-15_06659'}, {35: 'METEOR_1-15_06659'}, {35: 'METEOR_1-15_06659'}, {35: 'METEOR_1-15_06659'}, {35: 'METEOR_1-15_06659'}, {35: 'METEOR_1-15_06659'}, {35: 'METEOR_1-15_06659'}, {35: 'METEOR_1-15_06659'}, {35: 'METEOR_1-15_06659'}, {35: 'METEOR_1-15_06659'}, {35: 'METEOR_1-15_06659'}, {35: 'METEOR_1-15_06659'}, {35: 'METEOR_1-15_06659'}, {35: 'METEOR_1-15_06659'}, {35: 'METEOR_1-15_06659'}, {35: 'METEOR_1-15_06659'}, {35: 'METEOR_1-15_06659'}, {35: 'METEOR_1-15_06659'}, {35: 'METEOR_1-15_06659'}, {35: 'METEOR_1-15_06659'}, {35: 'METEOR_1-15_06659'}, {35: 'METEOR_1-15_06659'}, {35: 'METEOR_1-15_06659'}, {35: 'METEOR_1-15_06659'}, {35: 'METEOR_1-15_06659'}, {35: 'METEOR_1-15_06659'}, {35: 'METEOR_1-15_06659'}, {35: 'METEOR_1-15_06659'}, {35: 'METEOR_1-15_06659'}, {35: 'METEOR_1-15_06659'}, {35: 'METEOR_1-15_06659'}, {35: 'METEOR_1-15_06659'}, {35: 'METEOR_1-15_06659'}, {35: 'METEOR_1-15_06659'}, {35: 'METEOR_1-15_06659'}, {35: 'METEOR_1-15_06659'}, {35: 'METEOR_1-15_06659'}, {35: 'METEOR_1-15_06659'}, {35: 'METEOR_1-15_06659'}, {35: 'METEOR_1-15_06659'}, {35: 'METEOR_1-15_06659'}, {35: 'METEOR_1-15_06659'}, {35: 'METEOR_1-15_06659'}, {35: 'METEOR_1-15_06659'}, {35: 'METEOR_1-15_06659'}, {35: 'METEOR_1-15_06659'}, {35: 'METEOR_1-15_06659'}, {35: 'METEOR_1-15_06659'}, {35: 'METEOR_1-15_06659'}, {35: 'METEOR_1-15_06659'}, {35: 'METEOR_1-15_06659'}, {35: 'METEOR_1-15_06659'}, {35: 'METEOR_1-15_06659'}, {35: 'METEOR_1-15_06659'}, {35: 'METEOR_1-15_06659'}, {35: 'METEOR_1-15_06659'}, {35: 'METEOR_1-15_06659'}, {35: 'METEOR_1-15_06659'}, {35: 'METEOR_1-15_06659'}, {35: 'METEOR_1-15_06659'}, {35: 'METEOR_1-15_06659'}, {35: 'METEOR_1-15_06659'}, {35: 'METEOR_1-15_06659'}, {35: 'METEOR_1-15_06659'}, {35: 'METEOR_1-15_06659'}, {35: 'METEOR_1-15_06659'}, {35: 'METEOR_1-15_06659'}, {35: 'METEOR_1-15_06659'}, {35: 'METEOR_1-15_06659'}, {35: 'METEOR_1-15_06659'}, {35: 'METEOR_1-15_06659'}, {35: 'METEOR_1-15_06659'}, {35: 'METEOR_1-15_06659'}, {35: 'METEOR_1-15_06659'}, {35: 'METEOR_1-15_06659'}, {35: 'METEOR_1-15_06659'}, {35: 'METEOR_1-15_06659'}, {35: 'METEOR_1-15_06659'}, {35: 'METEOR_1-15_06659'}, {35: 'METEOR_1-15_06659'}, {35: 'METEOR_1-15_06659'}, {35: 'METEOR_1-15_06659'}, {35: 'METEOR_1-15_06659'}, {35: 'METEOR_1-15_06659'}, {35: 'METEOR_1-15_06659'}, {35: 'METEOR_1-15_06659'}, {35: 'METEOR_1-15_06659'}, {35: 'METEOR_1-15_06659'}, {35: 'METEOR_1-15_06659'}, {35: 'METEOR_1-15_06659'}, {35: 'METEOR_1-15_06659'}, {35: 'METEOR_1-15_06659'}, {35: 'METEOR_1-15_06659'}, {35: 'METEOR_1-15_06659'}, {35: 'METEOR_1-15_06659'}, {35: 'METEOR_1-15_06659'}, {35: 'METEOR_1-15_06659'}, {35: 'METEOR_1-15_06659'}, {35: 'METEOR_1-15_06659'}, {35: 'METEOR_1-15_06659'}, {35: 'METEOR_1-15_06659'}, {35: 'METEOR_1-15_06659'}, {35: 'METEOR_1-15_06659'}, {35: 'METEOR_1-15_06659'}, {35: 'METEOR_1-15_06659'}, {35: 'METEOR_1-15_06659'}, {35: 'METEOR_1-15_06659'}, {35: 'METEOR_1-15_06659'}, {35: 'METEOR_1-15_06659'}, {35: 'METEOR_1-15_06659'}, {35: 'METEOR_1-15_06659'}, {35: 'METEOR_1-15_06659'}, {35: 'METEOR_1-15_06659'}, {35: 'METEOR_1-15_06659'}, {35: 'METEOR_1-15_06659'}, {35: 'METEOR_1-15_06659'}, {35: 'METEOR_1-15_06659'}, {35: 'METEOR_1-15_06659'}, {35: 'METEOR_1-15_06659'}, {35: 'METEOR_1-15_06659'}, {35: 'METEOR_1-15_06659'}, {35: 'METEOR_1-15_06659'}, {35: 'METEOR_1-15_06659'}, {35: 'METEOR_1-15_06659'}, {35: 'METEOR_1-15_06659'}, {35: 'METEOR_1-15_06659'}, {35: 'METEOR_1-15_06659'}, {35: 'METEOR_1-15_06659'}, {35: 'METEOR_1-15_06659'}, {35: 'METEOR_1-15_06659'}, {35: 'METEOR_1-15_06659'}, {35: 'METEOR_1-15_06659'}, {35: 'METEOR_1-15_06659'}, {35: 'METEOR_1-15_06659'}, {35: 'METEOR_1-15_06659'}, {35: 'METEOR_1-15_06659'}, {35: 'METEOR_1-15_06659'}, {35: 'METEOR_1-15_06659'}, {35: 'METEOR_1-15_06659'}, {35: 'METEOR_1-15_06659'}, {35: 'METEOR_1-15_06659'}, {35: 'METEOR_1-15_06659'}, {35: 'METEOR_1-15_06659'}, {35: 'METEOR_1-15_06659'}, {35: 'METEOR_1-15_06659'}, {35: 'METEOR_1-15_06659'}, {35: 'METEOR_1-15_06659'}, {35: 'METEOR_1-15_06659'}, {35: 'METEOR_1-15_06659'}, {35: 'METEOR_1-15_06659'}, {35: 'METEOR_1-15_06659'}, {35: 'METEOR_1-15_06659'}, {35: 'METEOR_1-15_06659'}, {35: 'METEOR_1-15_06659'}, {35: 'METEOR_1-15_06659'}, {35: 'METEOR_1-15_06659'}, {35: 'METEOR_1-15_06659'}, {35: 'METEOR_1-15_06659'}, {35: 'METEOR_1-15_06659'}, {35: 'METEOR_1-15_06659'}, {35: 'METEOR_1-15_06659'}, {35: 'METEOR_1-15_06659'}, {35: 'METEOR_1-15_06659'}, {35: 'METEOR_1-15_06659'}, {35: 'METEOR_1-15_06659'}, {35: 'METEOR_1-15_06659'}, {35: 'METEOR_1-15_06659'}, {35: 'METEOR_1-15_06659'}, {35: 'METEOR_1-15_06659'}, {35: 'METEOR_1-15_06659'}, {35: 'METEOR_1-15_06659'}, {35: 'METEOR_1-15_06659'}, {35: 'METEOR_1-15_06659'}, {35: 'METEOR_1-15_06659'}, {35: 'METEOR_1-15_06659'}, {35: 'METEOR_1-15_06659'}, {35: 'METEOR_1-15_06659'}, {35: 'METEOR_1-15_06659'}, {35: 'METEOR_1-15_06659'}, {35: 'METEOR_1-15_06659'}, {35: 'METEOR_1-15_06659'}, {35: 'METEOR_1-15_06659'}, {35: 'METEOR_1-15_06659'}, {35: 'METEOR_1-15_06659'}, {35: 'METEOR_1-15_06659'}, {35: 'METEOR_1-15_06659'}, {35: 'METEOR_1-15_06659'}, {35: 'METEOR_1-15_06659'}, {35: 'METEOR_1-15_06659'}, {35: 'METEOR_1-15_06659'}, {35: 'METEOR_1-15_06659'}, {35: 'METEOR_1-15_06659'}, {35: 'METEOR_1-15_06659'}, {35: 'METEOR_1-15_06659'}, {35: 'METEOR_1-15_06659'}, {35: 'METEOR_1-15_06659'}, {35: 'METEOR_1-15_06659'}, {35: 'METEOR_1-15_06659'}, {35: 'METEOR_1-15_06659'}, {35: 'METEOR_1-15_06659'}, {35: 'METEOR_1-15_06659'}, {35: 'METEOR_1-15_06659'}, {35: 'METEOR_1-15_06659'}, {35: 'METEOR_1-15_06659'}, {35: 'METEOR_1-15_06659'}, {35: 'METEOR_1-15_06659'}, {35: 'METEOR_1-15_06659'}, {35: 'METEOR_1-15_06659'}, {35: 'METEOR_1-15_06659'}, {35: 'METEOR_1-15_06659'}, {35: 'METEOR_1-15_06659'}, {35: 'METEOR_1-15_06659'}, {35: 'METEOR_1-15_06659'}, {35: 'METEOR_1-15_06659'}, {35: 'METEOR_1-15_06659'}]\n",
      "{35: 'METEOR_1-15_06659'}\n"
     ]
    }
   ],
   "source": [
    "print(uv_dict_ls)\n",
    "print(debris_dict)"
   ]
  },
  {
   "cell_type": "code",
   "execution_count": 10,
   "metadata": {},
   "outputs": [
    {
     "name": "stdout",
     "output_type": "stream",
     "text": [
      "35 METEOR_1-15_06659 595\n",
      "{35: 'METEOR_1-15_06659'}\n"
     ]
    }
   ],
   "source": [
    "final_dict = {}\n",
    "uv_dict = {}\n",
    "for debris_dict in uv_dict_ls:\n",
    "  for index, name in debris_dict.items():\n",
    "    if index in final_dict:\n",
    "      final_dict[index].append(name)\n",
    "    else:\n",
    "      final_dict[index] = [name]\n",
    "for index, name in final_dict.items():\n",
    "  unique_name = list(set(name))\n",
    "  frequency=[]\n",
    "  for i in unique_name:\n",
    "    frequency.append(name.count(i))\n",
    "    print(index, i, name.count(i))\n",
    "  uv_dict[index] = unique_name[frequency.index(max(frequency))]\n",
    "print(uv_dict)"
   ]
  },
  {
   "cell_type": "code",
   "execution_count": 11,
   "metadata": {},
   "outputs": [
    {
     "name": "stdout",
     "output_type": "stream",
     "text": [
      "{35: 'METEOR_1-15_06659'}\n"
     ]
    }
   ],
   "source": [
    "print(uv_dict)"
   ]
  },
  {
   "cell_type": "code",
   "execution_count": 12,
   "metadata": {},
   "outputs": [
    {
     "name": "stdout",
     "output_type": "stream",
     "text": [
      "                       time               name  target_index           u  \\\n",
      "0   2023-04-25 16:00:05.000  METEOR_1-15_06659            35  884.714286   \n",
      "1   2023-04-25 16:00:05.100  METEOR_1-15_06659            35  884.875000   \n",
      "2   2023-04-25 16:00:05.200  METEOR_1-15_06659            35  885.000000   \n",
      "3   2023-04-25 16:00:05.300  METEOR_1-15_06659            35  885.000000   \n",
      "4   2023-04-25 16:00:05.400  METEOR_1-15_06659            35  885.000000   \n",
      "..                      ...                ...           ...         ...   \n",
      "640 2023-04-25 16:01:09.000  METEOR_1-15_06659            35  955.125000   \n",
      "641 2023-04-25 16:01:09.100  METEOR_1-15_06659            35  955.285714   \n",
      "642 2023-04-25 16:01:09.200  METEOR_1-15_06659            35  955.500000   \n",
      "643 2023-04-25 16:01:09.300  METEOR_1-15_06659            35  955.875000   \n",
      "644 2023-04-25 16:01:09.400  METEOR_1-15_06659            35  955.714286   \n",
      "\n",
      "               v            x            y            z  \n",
      "0     884.000000 -2776.315316  5734.471097 -3480.907572  \n",
      "1     884.875000 -2776.281353  5734.100782 -3481.547194  \n",
      "2     885.285714 -2776.247360  5733.730408 -3482.186780  \n",
      "3     886.000000 -2776.213339  5733.359973 -3482.826330  \n",
      "4     886.500000 -2776.179289  5732.989479 -3483.465843  \n",
      "..           ...          ...          ...          ...  \n",
      "640  1324.125000 -2748.685385  5485.433483 -3882.547265  \n",
      "641  1325.000000 -2748.633009  5485.025778 -3883.162284  \n",
      "642  1326.000000 -2748.580604  5484.618015 -3883.777262  \n",
      "643  1326.875000 -2748.528171  5484.210196 -3884.392200  \n",
      "644  1327.000000 -2748.475709  5483.802319 -3885.007097  \n",
      "\n",
      "[645 rows x 8 columns]\n"
     ]
    }
   ],
   "source": [
    "columns=['time','name','target_index','u','v','x','y','z']\n",
    "visible_debris = []\n",
    "for index, row in debris_uv.iterrows():\n",
    "  if row[3] in uv_dict:\n",
    "    name = uv_dict[row[3]]\n",
    "    time = row[0]\n",
    "    target_index = row[3]\n",
    "    x,y,z = debris[debris_name_list.index(name)][time_ls.index(time)].position\n",
    "    u,v = row[1],row[2]\n",
    "    visible_debris.append({'time':time,'name':name,'target_index':target_index,'u':u,'v':v,'x':x,'y':y,'z':z})\n",
    "visible_debris = pd.DataFrame(visible_debris, columns=columns)\n",
    "visible_debris.to_csv('visible_debris.csv',index=False)\n",
    "print(visible_debris)"
   ]
  },
  {
   "cell_type": "code",
   "execution_count": 13,
   "metadata": {},
   "outputs": [
    {
     "name": "stdout",
     "output_type": "stream",
     "text": [
      "[0.07777046 0.07793326 0.99392015]\n",
      "0.014216812973553532 [-0.07802382 -0.07802382  0.99389364]\n"
     ]
    }
   ],
   "source": [
    "## test \n",
    "sensor_pos = sensor[50].position_a\n",
    "u, v, x, y, z =visible_debris.iloc[1][3:8]\n",
    "vec = np.array([x,y,z]) - sensor_pos\n",
    "vec = vec / np.linalg.norm(vec)\n",
    "q = sensor[50].q\n",
    "q0, q1, q2, q3 = q\n",
    "Msi = np.array([[q3**2+q0**2-q1**2-q2**2, 2*q3*q2+2*q0*q1,     -2*q3*q1+2*q0*q2],\n",
    "                [-2*q3*q2+2*q0*q1,    q3**2-q0**2+q1**2-q2**2, 2*q3*q0+2*q1*q2],\n",
    "                [2*q3*q1+2*q0*q2,     -2*q3*q0+2*q1*q2,    q3**2-q0**2-q1**2+q2**2]])\n",
    "A = np.dot(Msi, vec)\n",
    "print(A)\n",
    "f = 0.01413\n",
    "dh = 0.000006\n",
    "dv = 0.000006\n",
    "H = 700\n",
    "vec0 = np.array([(H-v)*dv,(H-u)*dh,f])\n",
    "print(np.linalg.norm(vec0),vec0/np.linalg.norm(vec0))"
   ]
  }
 ],
 "metadata": {
  "kernelspec": {
   "display_name": "torchcly",
   "language": "python",
   "name": "python3"
  },
  "language_info": {
   "codemirror_mode": {
    "name": "ipython",
    "version": 3
   },
   "file_extension": ".py",
   "mimetype": "text/x-python",
   "name": "python",
   "nbconvert_exporter": "python",
   "pygments_lexer": "ipython3",
   "version": "3.9.16"
  }
 },
 "nbformat": 4,
 "nbformat_minor": 2
}
